{
 "cells": [
  {
   "cell_type": "code",
   "execution_count": 96,
   "metadata": {},
   "outputs": [],
   "source": [
    "from sklearn.metrics import classification_report, confusion_matrix, accuracy_score, ConfusionMatrixDisplay\n",
    "from sklearn.ensemble import IsolationForest\n",
    "from sklearn import model_selection\n",
    "import pandas as pd\n",
    "import numpy as np"
   ]
  },
  {
   "cell_type": "markdown",
   "metadata": {},
   "source": [
    "comme dit dans le court\n",
    "\n",
    "Détecter les valeurs manquantes (NaN).\n",
    "Repérer les valeurs aberrantes dans la vitesse.\n",
    "Gérer les erreurs textuelles dans la tension de batterie.\n",
    "Remplacer ou interpoler les valeurs manquantes.\n",
    "Filtrer ou corriger les valeurs aberrantes.\n",
    "Remplacer les erreurs textuelles par une valeur acceptable ou les ignorer\n"
   ]
  },
  {
   "cell_type": "code",
   "execution_count": null,
   "metadata": {},
   "outputs": [],
   "source": [
    "# clean\n",
    "df = pd.read_csv('vehicle_sensor_data.csv')\n",
    "\n",
    "#reajust speed\n",
    "df['speed'] = df['speed']/10\n",
    "\n",
    "temp_engine_nan = df.iloc[49]['temp_engine']\n",
    "\n",
    "# remplace NAN by median\n",
    "df['temp_engine'] = df['temp_engine'].fillna(df['temp_engine'].median())\n",
    "\n",
    "temp_engine_not_nan = df.iloc[49]['temp_engine']\n",
    "\n",
    "# verif nan change\n",
    "assert(temp_engine_nan != temp_engine_not_nan)\n",
    "\n",
    "# change strange values\n",
    "df.loc[df['speed'] > 300, 'speed'] = np.nan  # 300 is the max speed\n",
    "df['speed'] = df['speed'].fillna(df['speed'].median())\n",
    "\n",
    "# replace non numeric value\n",
    "df['voltage_battery'] = pd.to_numeric(df['voltage_battery'], errors='coerce')\n",
    "df['voltage_battery'] = df['voltage_battery'].fillna(df['voltage_battery'].mean())\n",
    "\n"
   ]
  },
  {
   "cell_type": "markdown",
   "metadata": {},
   "source": [
    "Checklist:\n",
    "● Is a classification or a regression problem ?\n",
    "● Is your dataset balanced or imbalanced ?\n",
    "● Which the nature of the problem? Supervised or unsupervised?\n",
    "● Will you use a high dimensional dataset ?\n",
    "● Is it an online or an offline domain ?\n",
    "● Is it a big data problem or a small data one ?\n",
    "● Has the dataset too much noise ?\n",
    "● Pick a set of algorithms based on previous items and use an optimization tool\n",
    "to choose the best algorithm with the best parameters"
   ]
  },
  {
   "cell_type": "markdown",
   "metadata": {},
   "source": [
    "● clasification\n",
    "● balanced => on sait pas (si on regarde la generation des donnée on sait qu'il y a 50 anomaly mais c'est un peu de la triche)\n",
    "● unsupervised\n",
    "● non high dimentional dataset\n",
    "● ofline domain\n",
    "● smal data probleme\n",
    "● no much noise\n",
    "● Isolation forest seem to be good in this probleme"
   ]
  },
  {
   "cell_type": "code",
   "execution_count": 79,
   "metadata": {},
   "outputs": [],
   "source": [
    "# on part du principe que les 5000 premieres valeurs sont normales et les 50 dernieres sont anormales\n",
    "\n",
    "data_corect = df.iloc[0:5000,:]\n",
    "data_incorect = df.iloc[-50:,:]\n",
    "\n",
    "X_train = pd.concat([data_corect.iloc[0:4000, :], data_incorect.iloc[0:40, :] ])\n",
    "X_validation = pd.concat([data_corect.iloc[4000:, :], data_incorect.iloc[40:, :] ])\n",
    "Y_train = np.concatenate([np.zeros(4000), np.ones(40)])\n",
    "Y_Validation = np.concatenate([np.zeros(1000), np.ones(10)])"
   ]
  },
  {
   "cell_type": "code",
   "execution_count": 94,
   "metadata": {},
   "outputs": [
    {
     "name": "stdout",
     "output_type": "stream",
     "text": [
      "best param {'n_jobs': 10, 'n_estimators': 330, 'max_samples': 100, 'contamination': 0.01, 'bootstrap': False}\n",
      "best accuracy 0.008172362555720654\n"
     ]
    }
   ],
   "source": [
    "clf = IsolationForest(random_state=42)\n",
    "\n",
    "param_grid = {'n_estimators': list(range(100, 400, 10)), \n",
    "              'max_samples': list(range(100, 300, 10)), \n",
    "              'contamination': [0.01, 0.05, 0.1, 0.2], \n",
    "              #'max_features': [5,10,15], \n",
    "              'bootstrap': [True, False], \n",
    "              'n_jobs': [5, 10, 20]}\n",
    "\n",
    "random_state = model_selection.RandomizedSearchCV(\n",
    "    clf, param_grid, n_iter=10, cv=3, scoring='accuracy', random_state=42\n",
    ")\n",
    "\n",
    "random_state.fit(X_train, Y_train)\n",
    "print(\"best param\", random_state.best_params_)\n",
    "print(\"best accuracy\", random_state.best_score_)\n",
    "\n",
    "# grid_dt_estimator = model_selection.GridSearchCV(clf, \n",
    "#                                                  param_grid,\n",
    "#                                                  scoring='accuracy', \n",
    "#                                                  refit=True,\n",
    "#                                                  cv=10, \n",
    "#                                                  return_train_score=True)\n",
    "# grid_dt_estimator.fit(X_train, Y_train)\n",
    "\n",
    "\n",
    "# print(\"best param\", grid_dt_estimator.best_params_)\n",
    "# print(\"best accuracy\", grid_dt_estimator.best_score_)\n",
    "\n",
    "contamination_best = 0.01\n",
    "bootstrap_best = False\n",
    "n_job_best = 10\n",
    "n_estimator_best = 330\n",
    "max_sample_best = 100"
   ]
  },
  {
   "cell_type": "code",
   "execution_count": 101,
   "metadata": {},
   "outputs": [
    {
     "name": "stdout",
     "output_type": "stream",
     "text": [
      "\n",
      "Rapport de classification :\n",
      "               precision    recall  f1-score   support\n",
      "\n",
      "         0.0       0.99      0.99      0.99      5000\n",
      "         1.0       0.33      0.34      0.34        50\n",
      "\n",
      "    accuracy                           0.99      5050\n",
      "   macro avg       0.66      0.67      0.66      5050\n",
      "weighted avg       0.99      0.99      0.99      5050\n",
      "\n",
      "Précision globale : 0.99\n"
     ]
    },
    {
     "data": {
      "image/png": "[encoded data removed]",
      "text/plain": [
       "<Figure size 640x480 with 2 Axes>"
      ]
     },
     "metadata": {},
     "output_type": "display_data"
    }
   ],
   "source": [
    "# train\n",
    "\n",
    "model = IsolationForest(contamination=contamination_best, bootstrap=bootstrap_best, n_jobs=n_job_best, n_estimators=n_estimator_best, max_samples=max_sample_best, random_state=42)\n",
    "\n",
    "df['anomaly'] = model.fit_predict(df)\n",
    "\n",
    "# Étiquettes réelles : 1 pour anomalies, 0 pour normales\n",
    "true_labels = np.concatenate([np.zeros(5000), np.ones(50)])\n",
    "\n",
    "# Recalculer les étiquettes prédites : -1 -> 1 (anomalie) et 1 -> 0 (normal)\n",
    "predicted_labels = (df['anomaly'] == -1).astype(int)\n",
    "\n",
    "# 1. Matrice de confusion\n",
    "conf_matrix = confusion_matrix(true_labels, predicted_labels)\n",
    "#print(\"Matrice de confusion :\\n\", conf_matrix)\n",
    "ConfusionMatrixDisplay(conf_matrix).plot()\n",
    "\n",
    "# 2. Rapport de classification\n",
    "report = classification_report(true_labels, predicted_labels)\n",
    "print(\"\\nRapport de classification :\\n\", report)\n",
    "\n",
    "# 3. Précision globale\n",
    "accuracy = accuracy_score(true_labels, predicted_labels)\n",
    "print(f\"Précision globale : {accuracy:.2f}\")"
   ]
  },
  {
   "cell_type": "markdown",
   "metadata": {},
   "source": [
    "on detect seulement la moitier anomaly malgré les 99% de précision\n",
    "\n",
    "il faudrait changé la méthode de scoring\n",
    "il faudrait aussi prendre le temps de lancer le serchgrid pour trouver de meilleurs parametres\n",
    "\n",
    "\n",
    "on conclut que se modèle "
   ]
  }
 ],
 "metadata": {
  "kernelspec": {
   "display_name": ".venv",
   "language": "python",
   "name": "python3"
  },
  "language_info": {
   "codemirror_mode": {
    "name": "ipython",
    "version": 3
   },
   "file_extension": ".py",
   "mimetype": "text/x-python",
   "name": "python",
   "nbconvert_exporter": "python",
   "pygments_lexer": "ipython3",
   "version": "3.12.3"
  }
 },
 "nbformat": 4,
 "nbformat_minor": 2
}
