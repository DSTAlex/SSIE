{
 "cells": [
  {
   "cell_type": "markdown",
   "id": "40670ede",
   "metadata": {
    "slideshow": {
     "slide_type": "slide"
    }
   },
   "source": [
    "# Simulations naïves de files d'attentes\n",
    "\n",
    "Ce TP vous invite à explorer les files d'attentes à travers des simulations (souvent naïves) de celles-ci. L'étude des systèmes d'attente ne peut se contenter d'un travail d'analyse théorique. Ces analyses sont souvent non disponibles et leur production nécessitent un savoir-faire mathématique expert. La simulation dans ce contexte permet d'apporter un premier regard sur les phénomènes à l'observation, même si elles n'apporte pas de réponses définitives elles sont souvent suffisantes pour faire un choix en première approximation. À minimna une simulation permet une meilleure qualification des variables en jeux lors d'une potentielle mise à contribution d'une équipe spécialisée. \n",
    "\n",
    "-----------------------"
   ]
  },
  {
   "cell_type": "markdown",
   "id": "2cfde19d-297c-40f1-9086-f342a5405e9b",
   "metadata": {},
   "source": [
    "## Générer de l'aléatoire\n",
    "\n",
    "Simuler une file d'attente sous-entend simuler un phénomène aléatoire. Pour pouvoir aborder sereinement cette simulation, on s'autorise à utiliser les générateurs aléatoires à disposition dans `numpy`. De toute manière, vous savez déjà construire un générateur aléatoire à partir d'une loi uniforme, *n'est-ce pas?*"
   ]
  },
  {
   "cell_type": "code",
   "execution_count": 2,
   "id": "c6edaa59",
   "metadata": {
    "slideshow": {
     "slide_type": "slide"
    }
   },
   "outputs": [],
   "source": [
    "import numpy as np\n",
    "import pandas as pd"
   ]
  },
  {
   "cell_type": "markdown",
   "id": "de5be6c6-46bf-4348-93b2-95d95a46b69a",
   "metadata": {},
   "source": [
    "Pour référence, on revient rapidement sur la simulation d'une variable aléatoire suivant une loi disponibles dans `numpy`. Il s'agit en premier lieu d'initialiser un générateur aléatoire, afin de garantir la reproductibilité des résultats puis de faire appel avec ce générateur aux différentes lois qu'on souhaite utiliser. Dans le cas markoviens, on sera limités aux lois exponentielles."
   ]
  },
  {
   "cell_type": "code",
   "execution_count": 3,
   "id": "6f404464-f84e-4058-8285-dd2eff6692a5",
   "metadata": {
    "slideshow": {
     "slide_type": "fragment"
    }
   },
   "outputs": [
    {
     "name": "stdout",
     "output_type": "stream",
     "text": [
      "\u001b[0;31mSignature:\u001b[0m       \u001b[0mnp\u001b[0m\u001b[0;34m.\u001b[0m\u001b[0mrandom\u001b[0m\u001b[0;34m.\u001b[0m\u001b[0mdefault_rng\u001b[0m\u001b[0;34m(\u001b[0m\u001b[0mseed\u001b[0m\u001b[0;34m=\u001b[0m\u001b[0;32mNone\u001b[0m\u001b[0;34m)\u001b[0m\u001b[0;34m\u001b[0m\u001b[0;34m\u001b[0m\u001b[0m\n",
      "\u001b[0;31mCall signature:\u001b[0m  \u001b[0mnp\u001b[0m\u001b[0;34m.\u001b[0m\u001b[0mrandom\u001b[0m\u001b[0;34m.\u001b[0m\u001b[0mdefault_rng\u001b[0m\u001b[0;34m(\u001b[0m\u001b[0;34m*\u001b[0m\u001b[0margs\u001b[0m\u001b[0;34m,\u001b[0m \u001b[0;34m**\u001b[0m\u001b[0mkwargs\u001b[0m\u001b[0;34m)\u001b[0m\u001b[0;34m\u001b[0m\u001b[0;34m\u001b[0m\u001b[0m\n",
      "\u001b[0;31mType:\u001b[0m           cython_function_or_method\n",
      "\u001b[0;31mString form:\u001b[0m    <cyfunction default_rng at 0x7fa68ccdda40>\n",
      "\u001b[0;31mDocstring:\u001b[0m     \n",
      "default_rng(seed=None)\n",
      "Construct a new Generator with the default BitGenerator (PCG64).\n",
      "\n",
      "    Parameters\n",
      "    ----------\n",
      "    seed : {None, int, array_like[ints], SeedSequence, BitGenerator, Generator}, optional\n",
      "        A seed to initialize the `BitGenerator`. If None, then fresh,\n",
      "        unpredictable entropy will be pulled from the OS. If an ``int`` or\n",
      "        ``array_like[ints]`` is passed, then all values must be non-negative and will be\n",
      "        passed to `SeedSequence` to derive the initial `BitGenerator` state. One may also\n",
      "        pass in a `SeedSequence` instance.\n",
      "        Additionally, when passed a `BitGenerator`, it will be wrapped by\n",
      "        `Generator`. If passed a `Generator`, it will be returned unaltered.\n",
      "\n",
      "    Returns\n",
      "    -------\n",
      "    Generator\n",
      "        The initialized generator object.\n",
      "\n",
      "    Notes\n",
      "    -----\n",
      "    If ``seed`` is not a `BitGenerator` or a `Generator`, a new `BitGenerator`\n",
      "    is instantiated. This function does not manage a default global instance.\n",
      "\n",
      "    See :ref:`seeding_and_entropy` for more information about seeding.\n",
      "    \n",
      "    Examples\n",
      "    --------\n",
      "    `default_rng` is the recommended constructor for the random number class\n",
      "    `Generator`. Here are several ways we can construct a random \n",
      "    number generator using `default_rng` and the `Generator` class. \n",
      "    \n",
      "    Here we use `default_rng` to generate a random float:\n",
      " \n",
      "    >>> import numpy as np\n",
      "    >>> rng = np.random.default_rng(12345)\n",
      "    >>> print(rng)\n",
      "    Generator(PCG64)\n",
      "    >>> rfloat = rng.random()\n",
      "    >>> rfloat\n",
      "    0.22733602246716966\n",
      "    >>> type(rfloat)\n",
      "    <class 'float'>\n",
      "     \n",
      "    Here we use `default_rng` to generate 3 random integers between 0 \n",
      "    (inclusive) and 10 (exclusive):\n",
      "        \n",
      "    >>> import numpy as np\n",
      "    >>> rng = np.random.default_rng(12345)\n",
      "    >>> rints = rng.integers(low=0, high=10, size=3)\n",
      "    >>> rints\n",
      "    array([6, 2, 7])\n",
      "    >>> type(rints[0])\n",
      "    <class 'numpy.int64'>\n",
      "    \n",
      "    Here we specify a seed so that we have reproducible results:\n",
      "    \n",
      "    >>> import numpy as np\n",
      "    >>> rng = np.random.default_rng(seed=42)\n",
      "    >>> print(rng)\n",
      "    Generator(PCG64)\n",
      "    >>> arr1 = rng.random((3, 3))\n",
      "    >>> arr1\n",
      "    array([[0.77395605, 0.43887844, 0.85859792],\n",
      "           [0.69736803, 0.09417735, 0.97562235],\n",
      "           [0.7611397 , 0.78606431, 0.12811363]])\n",
      "\n",
      "    If we exit and restart our Python interpreter, we'll see that we\n",
      "    generate the same random numbers again:\n",
      "\n",
      "    >>> import numpy as np\n",
      "    >>> rng = np.random.default_rng(seed=42)\n",
      "    >>> arr2 = rng.random((3, 3))\n",
      "    >>> arr2\n",
      "    array([[0.77395605, 0.43887844, 0.85859792],\n",
      "           [0.69736803, 0.09417735, 0.97562235],\n",
      "           [0.7611397 , 0.78606431, 0.12811363]])\n",
      "\n",
      "    "
     ]
    }
   ],
   "source": [
    "?? np.random.default_rng"
   ]
  },
  {
   "cell_type": "code",
   "execution_count": 4,
   "id": "0ee72a52",
   "metadata": {
    "slideshow": {
     "slide_type": "fragment"
    }
   },
   "outputs": [],
   "source": [
    "rng = np.random.default_rng(seed=42)"
   ]
  },
  {
   "cell_type": "code",
   "execution_count": 5,
   "id": "7d879f4a",
   "metadata": {
    "slideshow": {
     "slide_type": "fragment"
    }
   },
   "outputs": [],
   "source": [
    "l = 2."
   ]
  },
  {
   "cell_type": "code",
   "execution_count": 6,
   "id": "d7b5aa39",
   "metadata": {
    "slideshow": {
     "slide_type": "fragment"
    }
   },
   "outputs": [
    {
     "data": {
      "text/plain": [
       "array([1.2021043 , 1.16809483, 1.1923805 , 0.13989714, 0.0432187 ,\n",
       "       0.72633026, 0.70498035, 1.56214798, 0.0396471 , 0.52328042])"
      ]
     },
     "execution_count": 6,
     "metadata": {},
     "output_type": "execute_result"
    }
   ],
   "source": [
    "rng.exponential(1/l, 10)"
   ]
  },
  {
   "cell_type": "markdown",
   "id": "cfeb8977-1ebe-4e06-8249-3b5e6c60c7c1",
   "metadata": {},
   "source": [
    "Attention ici au fait que le premier paramètre de `rng.exponential` correspond à $1/\\lambda$ et non à $\\lambda$ dans le cours. Pour plus d'information vous êtes invités à consulter l'aide : `? rng.exponential`.\n",
    "\n",
    "------------"
   ]
  },
  {
   "cell_type": "markdown",
   "id": "76277954-e0a8-4019-aed3-10d01fe88678",
   "metadata": {},
   "source": [
    "## Modèle de travail\n",
    "\n",
    "Afin de garantir une certaine généricité de fonctionnement, nous allons encoder le résultats d'une simulation dans un `dataframe` qui permette des post-traitements statiques sur les données d'une simulation. Cela permet également de stocker le résultat d'une simulation pour consultations ultérieures notamment si l'on souhaite faire des comparatifs entre différents choix de simulations ou de paramètrage. \n",
    "\n",
    "On va pour la suite charger la bibliothèque `pandas` qui permet de manipuler et stocker facilement des données tabulaires."
   ]
  },
  {
   "cell_type": "code",
   "execution_count": 7,
   "id": "481b61cc-a7ed-4d7b-942d-3c46da57b510",
   "metadata": {},
   "outputs": [],
   "source": [
    "import pandas as pd"
   ]
  },
  {
   "cell_type": "markdown",
   "id": "ecd10008",
   "metadata": {
    "slideshow": {
     "slide_type": "slide"
    }
   },
   "source": [
    "On qualifie **d'Agent** une notion qui correspond à celle de client\n",
    "dans le folklore d'une file d'attente au guichet. Il est défini par\n",
    "les attributs suivants\n",
    "\n",
    "- `id` : son identifiant, un `int`.\n",
    "- `t_arval_queue` : temps d'arrivée dans le système d'attente, `float`.\n",
    "- `t_arval_srv` : temps d'accès à un serveur, `float`.\n",
    "- `t_depart_sys` : temps de départ du système, `float`.\n",
    "\n",
    "Dans l'implémentation qu'on propose chaque agent correspond aux\n",
    "premières colonnes d'une ligne dans un dataframe, nommé `tops`. Les\n",
    "colonnes concernées seront respectivement nommées\n",
    "`t_arval_queue`, `t_arval_srv` et `t_depart_sys`. L'attribut `id` correspond à une indexation sur les lignes.\n",
    "\n",
    "Les éléments décrits de `tops` correspondent aux tops d'un chronomètres en observation d'une file d'attente. On se laisse le droit, même si cela n'est pas très orthodoxe, de rajouter une information d'un autre ordre dans les colonnes de `tops`."
   ]
  },
  {
   "cell_type": "code",
   "execution_count": 8,
   "id": "0653fa50",
   "metadata": {
    "slideshow": {
     "slide_type": "fragment"
    }
   },
   "outputs": [],
   "source": [
    "tops = pd.DataFrame(rng.uniform(.1, size=(10, 3)), \n",
    "                    columns = ['t_arval_queue', 't_arval_srv', 't_depart_sys'])"
   ]
  },
  {
   "cell_type": "code",
   "execution_count": 9,
   "id": "7110aff8",
   "metadata": {
    "slideshow": {
     "slide_type": "fragment"
    }
   },
   "outputs": [
    {
     "data": {
      "text/html": [
       "<div>\n",
       "<style scoped>\n",
       "    .dataframe tbody tr th:only-of-type {\n",
       "        vertical-align: middle;\n",
       "    }\n",
       "\n",
       "    .dataframe tbody tr th {\n",
       "        vertical-align: top;\n",
       "    }\n",
       "\n",
       "    .dataframe thead th {\n",
       "        text-align: right;\n",
       "    }\n",
       "</style>\n",
       "<table border=\"1\" class=\"dataframe\">\n",
       "  <thead>\n",
       "    <tr style=\"text-align: right;\">\n",
       "      <th></th>\n",
       "      <th>t_arval_queue</th>\n",
       "      <th>t_arval_srv</th>\n",
       "      <th>t_depart_sys</th>\n",
       "    </tr>\n",
       "  </thead>\n",
       "  <tbody>\n",
       "    <tr>\n",
       "      <th>0</th>\n",
       "      <td>0.433718</td>\n",
       "      <td>0.934088</td>\n",
       "      <td>0.679479</td>\n",
       "    </tr>\n",
       "    <tr>\n",
       "      <th>1</th>\n",
       "      <td>0.840485</td>\n",
       "      <td>0.499073</td>\n",
       "      <td>0.304515</td>\n",
       "    </tr>\n",
       "    <tr>\n",
       "      <th>2</th>\n",
       "      <td>0.599126</td>\n",
       "      <td>0.157436</td>\n",
       "      <td>0.844868</td>\n",
       "    </tr>\n",
       "    <tr>\n",
       "      <th>3</th>\n",
       "      <td>0.668498</td>\n",
       "      <td>0.782279</td>\n",
       "      <td>0.419073</td>\n",
       "    </tr>\n",
       "    <tr>\n",
       "      <th>4</th>\n",
       "      <td>0.973628</td>\n",
       "      <td>0.903809</td>\n",
       "      <td>0.800545</td>\n",
       "    </tr>\n",
       "    <tr>\n",
       "      <th>5</th>\n",
       "      <td>0.275175</td>\n",
       "      <td>0.520049</td>\n",
       "      <td>0.139423</td>\n",
       "    </tr>\n",
       "    <tr>\n",
       "      <th>6</th>\n",
       "      <td>0.238861</td>\n",
       "      <td>0.714744</td>\n",
       "      <td>0.770286</td>\n",
       "    </tr>\n",
       "    <tr>\n",
       "      <th>7</th>\n",
       "      <td>0.970759</td>\n",
       "      <td>0.393243</td>\n",
       "      <td>0.433414</td>\n",
       "    </tr>\n",
       "    <tr>\n",
       "      <th>8</th>\n",
       "      <td>0.522600</td>\n",
       "      <td>0.270524</td>\n",
       "      <td>0.216929</td>\n",
       "    </tr>\n",
       "    <tr>\n",
       "      <th>9</th>\n",
       "      <td>0.528134</td>\n",
       "      <td>0.304218</td>\n",
       "      <td>0.702833</td>\n",
       "    </tr>\n",
       "  </tbody>\n",
       "</table>\n",
       "</div>"
      ],
      "text/plain": [
       "   t_arval_queue  t_arval_srv  t_depart_sys\n",
       "0       0.433718     0.934088      0.679479\n",
       "1       0.840485     0.499073      0.304515\n",
       "2       0.599126     0.157436      0.844868\n",
       "3       0.668498     0.782279      0.419073\n",
       "4       0.973628     0.903809      0.800545\n",
       "5       0.275175     0.520049      0.139423\n",
       "6       0.238861     0.714744      0.770286\n",
       "7       0.970759     0.393243      0.433414\n",
       "8       0.522600     0.270524      0.216929\n",
       "9       0.528134     0.304218      0.702833"
      ]
     },
     "execution_count": 9,
     "metadata": {},
     "output_type": "execute_result"
    }
   ],
   "source": [
    "tops"
   ]
  },
  {
   "cell_type": "markdown",
   "id": "1d2dd64a-fd31-45d1-afd9-2b765adf92e8",
   "metadata": {},
   "source": [
    "Le code précédent ne vise qu'à vous fixer la forme de `tops`. Il devrait être clair pour vous que le remplissage de `tops` dans le cadre de la simulation d'une file d'attente ne sera pas effectuer de cette façon. \n",
    "\n",
    "-------"
   ]
  },
  {
   "cell_type": "markdown",
   "id": "10b441f8-94cd-4063-bff6-f3a816a4363c",
   "metadata": {},
   "source": [
    "# Simuler une file M/M/1\n",
    "\n",
    "Il est bien entendu illusoire de souhaiter simuler une file M/M/1 qui s'exécute infiniment, il s'agit ici d'avoir une file pour laquelle aucun refus ne peut avoir lieu indépendamment des congestions qu'elle peut subir. Le nombre d'agents intervenants dans la simulation ne sont dans ce contexte qu'un échantillon de la population infinie considérée."
   ]
  },
  {
   "cell_type": "markdown",
   "id": "3fc9e6cd-47dd-4bdb-9e73-c247565c943e",
   "metadata": {},
   "source": [
    "La classe qui suit, cherche à standardiser la façon avec laquelle on souhaite étudier / formaliser nos différentes simulation de files d'attentes"
   ]
  },
  {
   "cell_type": "code",
   "execution_count": 31,
   "id": "c4ba64a2-60cb-40f8-bff3-7945bd0dcfcf",
   "metadata": {},
   "outputs": [],
   "source": [
    "class mm1():\n",
    "    \"\"\"\n",
    "    A class representing an mm1 queue. \n",
    "\n",
    "    Attributes :\n",
    "\n",
    "        lamda (float)   : parameter of exponential law corresponding to interarrival times.\n",
    "        mu (float)      : parameter of exponential law corresponding to service times.\n",
    "        gen (np.random) : a random generator\n",
    "        test_z (int)    : test size\n",
    "        tops            : dataframe containing queue and service arrival times, and departure times for each agent.\n",
    "    \"\"\"\n",
    "    \n",
    "    \n",
    "    def __init__(self, lamda, mu, gen, test_z=100) :\n",
    "        \"\"\"\n",
    "        Initializes a news instance of the class mm1.\n",
    "        \n",
    "        Args :\n",
    "            lamda  : parameter of exponential law corresponding to interarrival times.\n",
    "            mu     : parameter of exponential law corresponding to service times.\n",
    "            gen    : a random generator\n",
    "            test_z : test size. \n",
    "        \"\"\"\n",
    "        \n",
    "        #Initializing metadata\n",
    "        self.lamda = lamda\n",
    "        self.mu = mu\n",
    "        self.gen = gen\n",
    "        self.t_size = test_z\n",
    "        \n",
    "        #Initializin tops dataframe\n",
    "        column_names = ['t_arival', 't_service', 't_depart']\n",
    "        self.tops = pd.DataFrame(np.empty((self.t_size, 3),dtype=object), columns=column_names)\n",
    "        \n",
    "    def run(self):\n",
    "        \"\"\"\n",
    "        Simulates the mm1 queuing system\n",
    "\n",
    "        Modifies the attribute tops following a simulation of mm1 queue respecting interarrival and \n",
    "        outgoing intensities given by corresponding attributes. Besides filling in queue arrival times, \n",
    "        service arrival times and departure times for each agent, it adds columns to tops corresponding \n",
    "        to sojourn time (t_sojourn), waiting time (t_waiting) and service time (t_service) of each agent.\n",
    "        \"\"\"\n",
    "        #FIXME\n",
    "\n",
    "        self.tops[\"t_arival\"][0] = self.gen.exponential(self.lamda)\n",
    "        self.tops[\"t_service\"][0] = self.tops[\"t_arival\"][0]\n",
    "        self.tops[\"t_depart\"][0] = self.tops[\"t_service\"][0] + self.gen.exponential(self.mu)\n",
    "        for line in range(1, self.t_size):\n",
    "            self.tops[\"t_arival\"][line] = self.tops[\"t_arival\"][line - 1] + self.gen.exponential(self.lamda)\n",
    "            self.tops[\"t_service\"][line] = max(self.tops[\"t_arival\"][line],self.tops[\"t_depart\"][line - 1])\n",
    "            self.tops[\"t_depart\"][line] = self.tops[\"t_service\"][line] + self.gen.exponential(self.mu)\n",
    "        \n",
    "    \n",
    "    \n",
    "    def counts(self, t_intervals):\n",
    "        \"\"\"\n",
    "        Computes number of agents in system at all given times.\n",
    "\n",
    "        Args :\n",
    "            t_intervals : size of time laps between two successive tops.\n",
    "\n",
    "        Returns :\n",
    "            A dataframe indexed by time laps of size t_intervals all along total queue simulation time, \n",
    "            its three columns contain number of agents in system (ag_in_sys), in arrival queue (ag_in_queue) and\n",
    "            in service (ag_in_service).\n",
    "        \"\"\"                \n",
    "        # FIXME\n",
    "\n",
    "    def stats(self):\n",
    "        \"\"\"\n",
    "        Computes statistics of a current simulation of queue.\n",
    "\n",
    "        Returns:\n",
    "            A dataframe indexed by standard statistics of interest mean sojourn time (mean_sojourn_time), \n",
    "            mean waiting time (mean_waiting_time) and mean service time (mean_service_time).\n",
    "        \"\"\"\n",
    "        #FIXME"
   ]
  },
  {
   "cell_type": "markdown",
   "id": "d5c433a0-7b4a-4545-97c8-9af3c7717b60",
   "metadata": {},
   "source": [
    "1. Implémenter les fonctions laissées dans le code."
   ]
  },
  {
   "cell_type": "markdown",
   "id": "f9e2759e-6533-410d-8fe9-dd9462874382",
   "metadata": {},
   "source": [
    "2. Simuler le comportement d'une file mm1 avec les paramètres de votre choix. On note `mm1_counts` et `mm1_stats` les variables qui stockent les retours des fonctions `counts` et `stats` pour une exécution de votre choix de `mm1`. Vous pourrez représenter graphiquement les résultats de vos tests à l'aide du code ci-dessous"
   ]
  },
  {
   "cell_type": "code",
   "execution_count": 11,
   "id": "ca3a7119-038b-4f7e-b739-fac035e00007",
   "metadata": {},
   "outputs": [],
   "source": [
    "import matplotlib.pyplot as plt"
   ]
  },
  {
   "cell_type": "code",
   "execution_count": 32,
   "id": "8bb72f60-14dc-4441-b0f6-9314c6606007",
   "metadata": {},
   "outputs": [
    {
     "name": "stdout",
     "output_type": "stream",
     "text": [
      "      t_arival   t_service    t_depart\n",
      "0     2.938168    2.938168     3.60806\n",
      "1     7.264257    7.264257     8.00427\n",
      "2    15.486065   15.486065   15.547111\n",
      "3    31.562662   31.562662   32.390502\n",
      "4     32.44718    32.44718   33.033742\n",
      "..         ...         ...         ...\n",
      "95  304.749193  304.749193  305.102143\n",
      "96  306.432019  306.432019  307.082851\n",
      "97  307.245168  307.245168  308.215376\n",
      "98   310.77262   310.77262  312.330338\n",
      "99  311.461632  312.330338  313.322339\n",
      "\n",
      "[100 rows x 3 columns]\n"
     ]
    },
    {
     "name": "stderr",
     "output_type": "stream",
     "text": [
      "/tmp/ipykernel_25081/303537156.py:47: FutureWarning: ChainedAssignmentError: behaviour will change in pandas 3.0!\n",
      "You are setting values through chained assignment. Currently this works in certain cases, but when using Copy-on-Write (which will become the default behaviour in pandas 3.0) this will never work to update the original DataFrame or Series, because the intermediate object on which we are setting values will behave as a copy.\n",
      "A typical example is when you are setting values in a column of a DataFrame, like:\n",
      "\n",
      "df[\"col\"][row_indexer] = value\n",
      "\n",
      "Use `df.loc[row_indexer, \"col\"] = values` instead, to perform the assignment in a single step and ensure this keeps updating the original `df`.\n",
      "\n",
      "See the caveats in the documentation: https://pandas.pydata.org/pandas-docs/stable/user_guide/indexing.html#returning-a-view-versus-a-copy\n",
      "\n",
      "  self.tops[\"t_arival\"][0] = self.gen.exponential(self.lamda)\n",
      "/tmp/ipykernel_25081/303537156.py:48: FutureWarning: ChainedAssignmentError: behaviour will change in pandas 3.0!\n",
      "You are setting values through chained assignment. Currently this works in certain cases, but when using Copy-on-Write (which will become the default behaviour in pandas 3.0) this will never work to update the original DataFrame or Series, because the intermediate object on which we are setting values will behave as a copy.\n",
      "A typical example is when you are setting values in a column of a DataFrame, like:\n",
      "\n",
      "df[\"col\"][row_indexer] = value\n",
      "\n",
      "Use `df.loc[row_indexer, \"col\"] = values` instead, to perform the assignment in a single step and ensure this keeps updating the original `df`.\n",
      "\n",
      "See the caveats in the documentation: https://pandas.pydata.org/pandas-docs/stable/user_guide/indexing.html#returning-a-view-versus-a-copy\n",
      "\n",
      "  self.tops[\"t_service\"][0] = self.tops[\"t_arival\"][0]\n",
      "/tmp/ipykernel_25081/303537156.py:49: FutureWarning: ChainedAssignmentError: behaviour will change in pandas 3.0!\n",
      "You are setting values through chained assignment. Currently this works in certain cases, but when using Copy-on-Write (which will become the default behaviour in pandas 3.0) this will never work to update the original DataFrame or Series, because the intermediate object on which we are setting values will behave as a copy.\n",
      "A typical example is when you are setting values in a column of a DataFrame, like:\n",
      "\n",
      "df[\"col\"][row_indexer] = value\n",
      "\n",
      "Use `df.loc[row_indexer, \"col\"] = values` instead, to perform the assignment in a single step and ensure this keeps updating the original `df`.\n",
      "\n",
      "See the caveats in the documentation: https://pandas.pydata.org/pandas-docs/stable/user_guide/indexing.html#returning-a-view-versus-a-copy\n",
      "\n",
      "  self.tops[\"t_depart\"][0] = self.tops[\"t_service\"][0] + self.gen.exponential(self.mu)\n",
      "/tmp/ipykernel_25081/303537156.py:51: FutureWarning: ChainedAssignmentError: behaviour will change in pandas 3.0!\n",
      "You are setting values through chained assignment. Currently this works in certain cases, but when using Copy-on-Write (which will become the default behaviour in pandas 3.0) this will never work to update the original DataFrame or Series, because the intermediate object on which we are setting values will behave as a copy.\n",
      "A typical example is when you are setting values in a column of a DataFrame, like:\n",
      "\n",
      "df[\"col\"][row_indexer] = value\n",
      "\n",
      "Use `df.loc[row_indexer, \"col\"] = values` instead, to perform the assignment in a single step and ensure this keeps updating the original `df`.\n",
      "\n",
      "See the caveats in the documentation: https://pandas.pydata.org/pandas-docs/stable/user_guide/indexing.html#returning-a-view-versus-a-copy\n",
      "\n",
      "  self.tops[\"t_arival\"][line] = self.tops[\"t_arival\"][line - 1] + self.gen.exponential(self.lamda)\n",
      "/tmp/ipykernel_25081/303537156.py:52: FutureWarning: ChainedAssignmentError: behaviour will change in pandas 3.0!\n",
      "You are setting values through chained assignment. Currently this works in certain cases, but when using Copy-on-Write (which will become the default behaviour in pandas 3.0) this will never work to update the original DataFrame or Series, because the intermediate object on which we are setting values will behave as a copy.\n",
      "A typical example is when you are setting values in a column of a DataFrame, like:\n",
      "\n",
      "df[\"col\"][row_indexer] = value\n",
      "\n",
      "Use `df.loc[row_indexer, \"col\"] = values` instead, to perform the assignment in a single step and ensure this keeps updating the original `df`.\n",
      "\n",
      "See the caveats in the documentation: https://pandas.pydata.org/pandas-docs/stable/user_guide/indexing.html#returning-a-view-versus-a-copy\n",
      "\n",
      "  self.tops[\"t_service\"][line] = max(self.tops[\"t_arival\"][line],self.tops[\"t_depart\"][line - 1])\n",
      "/tmp/ipykernel_25081/303537156.py:53: FutureWarning: ChainedAssignmentError: behaviour will change in pandas 3.0!\n",
      "You are setting values through chained assignment. Currently this works in certain cases, but when using Copy-on-Write (which will become the default behaviour in pandas 3.0) this will never work to update the original DataFrame or Series, because the intermediate object on which we are setting values will behave as a copy.\n",
      "A typical example is when you are setting values in a column of a DataFrame, like:\n",
      "\n",
      "df[\"col\"][row_indexer] = value\n",
      "\n",
      "Use `df.loc[row_indexer, \"col\"] = values` instead, to perform the assignment in a single step and ensure this keeps updating the original `df`.\n",
      "\n",
      "See the caveats in the documentation: https://pandas.pydata.org/pandas-docs/stable/user_guide/indexing.html#returning-a-view-versus-a-copy\n",
      "\n",
      "  self.tops[\"t_depart\"][line] = self.tops[\"t_service\"][line] + self.gen.exponential(self.mu)\n"
     ]
    }
   ],
   "source": [
    "a = mm1(3,1,rng)\n",
    "a.run()\n",
    "print(a.tops)\n",
    "\n",
    "# fig, axes = plt.subplots(3, 1, figsize=(16, 12))\n",
    "# counts = ['ag_in_sys','ag_in_queue','ag_in_service']\n",
    "# labels = ['system', 'queue', 'service']\n",
    "# colors = ['red', 'blue', 'black']\n",
    "\n",
    "# for i in range(3):\n",
    "#     mm1_counts.plot(y= counts[i], \n",
    "#                    use_index=True, ax=axes[i], linewidth=1.5,drawstyle='steps-mid', color=f'{colors[i]}',\n",
    "#                    ylabel=f'Agent number in {labels[i]}', xlabel='Time', ylim=[0,max(mm1_counts['ag_in_sys']+1)])\n",
    "    "
   ]
  },
  {
   "cell_type": "markdown",
   "id": "78e349ba-80de-4d71-98f4-62f11164fd2d",
   "metadata": {},
   "source": [
    "3. Comparer les résultats que vous obtenez à l'aide de votre simulateur aux résultats théorques attentdus.\n",
    "\n",
    "-----------"
   ]
  },
  {
   "cell_type": "markdown",
   "id": "2d48c866-2a34-43ff-90ca-be450be8f917",
   "metadata": {},
   "source": [
    "# Le cas d'une file M/M/1/K"
   ]
  },
  {
   "cell_type": "markdown",
   "id": "9e11c872-9073-42c1-83d6-3656f3761733",
   "metadata": {},
   "source": [
    "1. Quels sont les comportement qu'on souhaite retrouver dans le cas des files M/M/1/K qui sont exclus du cas M/M/1 précédents ? "
   ]
  },
  {
   "cell_type": "markdown",
   "id": "0bf87524-14f0-4ae8-8a23-b9557e19ebef",
   "metadata": {},
   "source": [
    "2. Adapter le code `mm1` précédent au cas d'une file d'attente `mm1k`. "
   ]
  },
  {
   "cell_type": "markdown",
   "id": "1090bf2f-6954-4866-b4ab-10f277bca6f6",
   "metadata": {},
   "source": [
    "3. Comparer ce que vous obtenez aux résultats théoriques."
   ]
  },
  {
   "cell_type": "markdown",
   "id": "e824b1cf-5111-4437-b481-ce02903a2cd9",
   "metadata": {},
   "source": [
    "4. Étuder l'impact de différentes politiques de priorisation sur les statistiques de comportement d'une file d'attente M/M/1/K\n",
    "\n",
    "-------"
   ]
  },
  {
   "cell_type": "markdown",
   "id": "ae1be7ff-df1d-4218-a9ba-46537c943f68",
   "metadata": {},
   "source": [
    "# Files d'attentes déterministes"
   ]
  },
  {
   "cell_type": "markdown",
   "id": "b3ef1f14-6350-4e70-a521-ac04ca31a894",
   "metadata": {},
   "source": [
    "1. Simuler une file d'attente déterministe de type D/D/1/K."
   ]
  },
  {
   "cell_type": "markdown",
   "id": "67bce9ae-136e-461b-8cb1-a105b3362ede",
   "metadata": {},
   "source": [
    "2. Étudier le taux de refus et le taux de saturation d'une file D/D/1/K en fonction des pas des interarrivées et de ceux de service. "
   ]
  },
  {
   "cell_type": "markdown",
   "id": "95aaefc1-bef4-4462-9a5d-27d7b7a9d9c8",
   "metadata": {},
   "source": [
    "3. Que pouvez-vous en dire ?\n",
    "\n",
    "--------"
   ]
  }
 ],
 "metadata": {
  "celltoolbar": "Aucun(e)",
  "kernelspec": {
   "display_name": "Python 3",
   "language": "python",
   "name": "python3"
  },
  "language_info": {
   "codemirror_mode": {
    "name": "ipython",
    "version": 3
   },
   "file_extension": ".py",
   "mimetype": "text/x-python",
   "name": "python",
   "nbconvert_exporter": "python",
   "pygments_lexer": "ipython3",
   "version": "3.10.12"
  }
 },
 "nbformat": 4,
 "nbformat_minor": 5
}
